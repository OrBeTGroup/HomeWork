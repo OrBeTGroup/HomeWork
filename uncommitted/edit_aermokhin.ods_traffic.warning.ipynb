{
 "cells": [
  {
   "cell_type": "markdown",
   "id": "9dbb6519",
   "metadata": {},
   "source": [
    "# Edit Your Expectation Suite\n",
    "Use this notebook to recreate and modify your expectation suite:\n",
    "\n",
    "**Expectation Suite Name**: `aermokhin.ods_traffic.warning`\n",
    "\n",
    "We'd love it if you **reach out to us on** the [**Great Expectations Slack Channel**](https://greatexpectations.io/slack)"
   ]
  },
  {
   "cell_type": "code",
   "execution_count": null,
   "id": "988d72b3",
   "metadata": {},
   "outputs": [],
   "source": [
    "import datetime\n",
    "import great_expectations as ge\n",
    "import great_expectations.jupyter_ux\n",
    "from great_expectations.checkpoint import LegacyCheckpoint\n",
    "from great_expectations.data_context.types.resource_identifiers import ValidationResultIdentifier\n",
    "\n",
    "context = ge.data_context.DataContext()\n",
    "\n",
    "# Feel free to change the name of your suite here. Renaming this will not\n",
    "# remove the other one.\n",
    "expectation_suite_name = \"aermokhin.ods_traffic.warning\"\n",
    "suite = context.get_expectation_suite(expectation_suite_name)\n",
    "suite.expectations = []\n",
    "\n",
    "batch_kwargs = {'data_asset_name': 'aermokhin.ods_traffic', 'datasource': 'gp', 'limit': 1000, 'schema': 'aermokhin', 'table': 'ods_traffic'}\n",
    "batch = context.get_batch(batch_kwargs, suite)\n",
    "batch.head()"
   ]
  },
  {
   "cell_type": "markdown",
   "id": "4ba09bef",
   "metadata": {},
   "source": [
    "## Create & Edit Expectations\n",
    "\n",
    "Add expectations by calling specific expectation methods on the `batch` object. They all begin with `.expect_` which makes autocompleting easy using tab.\n",
    "\n",
    "You can see all the available expectations in the **[expectation glossary](https://docs.greatexpectations.io/en/latest/reference/glossary_of_expectations.html?utm_source=notebook&utm_medium=create_expectations)**."
   ]
  },
  {
   "cell_type": "markdown",
   "id": "13738ab1",
   "metadata": {},
   "source": [
    "### Table Expectation(s)"
   ]
  },
  {
   "cell_type": "code",
   "execution_count": null,
   "id": "6f66816f",
   "metadata": {},
   "outputs": [],
   "source": [
    "batch.expect_table_row_count_to_be_between(max_value=1100, min_value=900)"
   ]
  },
  {
   "cell_type": "code",
   "execution_count": null,
   "id": "b35a9421",
   "metadata": {},
   "outputs": [],
   "source": [
    "batch.expect_table_column_count_to_equal(value=6)"
   ]
  },
  {
   "cell_type": "code",
   "execution_count": null,
   "id": "e77f99dd",
   "metadata": {},
   "outputs": [],
   "source": [
    "batch.expect_table_columns_to_match_ordered_list(column_list=['user_id', 'timestamp', 'device_id', 'device_ip_addr', 'bytes_sent', 'bytes_received'])"
   ]
  },
  {
   "cell_type": "markdown",
   "id": "8c1e02f3",
   "metadata": {},
   "source": [
    "### Column Expectation(s)"
   ]
  },
  {
   "cell_type": "markdown",
   "id": "ac4cdae9",
   "metadata": {},
   "source": [
    "#### `device_id`"
   ]
  },
  {
   "cell_type": "code",
   "execution_count": null,
   "id": "b15e8653",
   "metadata": {},
   "outputs": [],
   "source": [
    "batch.expect_column_values_to_not_be_null(column='device_id')"
   ]
  },
  {
   "cell_type": "code",
   "execution_count": null,
   "id": "a6e8aebf",
   "metadata": {},
   "outputs": [],
   "source": [
    "batch.expect_column_distinct_values_to_be_in_set(column='device_id', value_set=['d001', 'd002', 'd003', 'd004', 'd005', 'd006', 'd007', 'd008', 'd009'])"
   ]
  },
  {
   "cell_type": "code",
   "execution_count": null,
   "id": "aa8bf9a9",
   "metadata": {},
   "outputs": [],
   "source": [
    "batch.expect_column_kl_divergence_to_be_less_than(column='device_id', partition_object={'values': ['d001', 'd002', 'd003', 'd004', 'd005', 'd006', 'd007', 'd008', 'd009'], 'weights': [0.104, 0.113, 0.133, 0.122, 0.103, 0.113, 0.107, 0.106, 0.099]}, threshold=0.6)"
   ]
  },
  {
   "cell_type": "markdown",
   "id": "e84d2c0c",
   "metadata": {},
   "source": [
    "#### `bytes_sent`"
   ]
  },
  {
   "cell_type": "code",
   "execution_count": null,
   "id": "aa72fb69",
   "metadata": {},
   "outputs": [],
   "source": [
    "batch.expect_column_values_to_not_be_null(column='bytes_sent')"
   ]
  },
  {
   "cell_type": "code",
   "execution_count": null,
   "id": "b2769514",
   "metadata": {},
   "outputs": [],
   "source": [
    "batch.expect_column_min_to_be_between(column='bytes_sent', max_value=44, min_value=42)"
   ]
  },
  {
   "cell_type": "code",
   "execution_count": null,
   "id": "18cd84c6",
   "metadata": {},
   "outputs": [],
   "source": [
    "batch.expect_column_max_to_be_between(column='bytes_sent', max_value=49929, min_value=49927)"
   ]
  },
  {
   "cell_type": "code",
   "execution_count": null,
   "id": "53e36cd7",
   "metadata": {},
   "outputs": [],
   "source": [
    "batch.expect_column_mean_to_be_between(column='bytes_sent', max_value=25717.056, min_value=25715.056)"
   ]
  },
  {
   "cell_type": "code",
   "execution_count": null,
   "id": "710e3f43",
   "metadata": {},
   "outputs": [],
   "source": [
    "batch.expect_column_median_to_be_between(column='bytes_sent', max_value=26428.5, min_value=26426.5)"
   ]
  },
  {
   "cell_type": "code",
   "execution_count": null,
   "id": "b4d45ceb",
   "metadata": {},
   "outputs": [],
   "source": [
    "batch.expect_column_quantile_values_to_be_between(column='bytes_sent', allow_relative_error=True, quantile_ranges={'quantiles': [0.05, 0.25, 0.5, 0.75, 0.95], 'value_ranges': [[2941, 2943], [13270, 13272], [26409, 26411], [37381, 37383], [47490, 47492]]})"
   ]
  },
  {
   "cell_type": "markdown",
   "id": "aaa70be4",
   "metadata": {},
   "source": [
    "#### `device_ip_addr`"
   ]
  },
  {
   "cell_type": "code",
   "execution_count": null,
   "id": "bc753d6d",
   "metadata": {},
   "outputs": [],
   "source": [
    "batch.expect_column_values_to_not_be_null(column='device_ip_addr')"
   ]
  },
  {
   "cell_type": "code",
   "execution_count": null,
   "id": "6f4ac44c",
   "metadata": {},
   "outputs": [],
   "source": [
    "batch.expect_column_value_lengths_to_be_between(column='device_ip_addr', min_value=1)"
   ]
  },
  {
   "cell_type": "markdown",
   "id": "ee114d24",
   "metadata": {},
   "source": [
    "#### `timestamp`"
   ]
  },
  {
   "cell_type": "code",
   "execution_count": null,
   "id": "9a911054",
   "metadata": {},
   "outputs": [],
   "source": [
    "batch.expect_column_values_to_not_be_null(column='timestamp')"
   ]
  },
  {
   "cell_type": "code",
   "execution_count": null,
   "id": "f72fddec",
   "metadata": {},
   "outputs": [],
   "source": [
    "batch.expect_column_values_to_be_between(column='timestamp', max_value='2015-12-31 19:22:31.268000', min_value='2012-01-03 18:22:31.268000', parse_strings_as_datetimes=True)"
   ]
  },
  {
   "cell_type": "markdown",
   "id": "89234e2f",
   "metadata": {},
   "source": [
    "## Save & Review Your Expectations\n",
    "\n",
    "Let's save the expectation suite as a JSON file in the `great_expectations/expectations` directory of your project.\n",
    "If you decide not to save some expectations that you created, use [remove_expectation method](https://docs.greatexpectations.io/en/latest/autoapi/great_expectations/data_asset/index.html?highlight=remove_expectation&utm_source=notebook&utm_medium=edit_expectations#great_expectations.data_asset.DataAsset.remove_expectation).\n",
    "\n",
    "Let's now rebuild your Data Docs, which helps you communicate about your data with both machines and humans."
   ]
  },
  {
   "cell_type": "code",
   "execution_count": null,
   "id": "8d13d643",
   "metadata": {},
   "outputs": [],
   "source": [
    "batch.save_expectation_suite(discard_failed_expectations=False)\n",
    "\n",
    "results = LegacyCheckpoint(\n",
    "    name=\"_temp_checkpoint\",\n",
    "    data_context=context,\n",
    "    batches=[\n",
    "        {\n",
    "          \"batch_kwargs\": batch_kwargs,\n",
    "          \"expectation_suite_names\": [expectation_suite_name]\n",
    "        }\n",
    "    ]\n",
    ").run()\n",
    "validation_result_identifier = results.list_validation_result_identifiers()[0]\n",
    "context.build_data_docs()\n",
    "context.open_data_docs(validation_result_identifier)"
   ]
  }
 ],
 "metadata": {
  "kernelspec": {
   "display_name": "Python 3",
   "language": "python",
   "name": "python3"
  },
  "language_info": {
   "codemirror_mode": {
    "name": "ipython",
    "version": 3
   },
   "file_extension": ".py",
   "mimetype": "text/x-python",
   "name": "python",
   "nbconvert_exporter": "python",
   "pygments_lexer": "ipython3",
   "version": "3.8.8"
  }
 },
 "nbformat": 4,
 "nbformat_minor": 5
}
